{
 "cells": [
  {
   "cell_type": "markdown",
   "metadata": {},
   "source": [
    "2xn 의 직사각형을 1x2 or 2x1로 채우는 방법들 \n",
    "\n",
    "마지막에 1x2 로 직사각형을 놨을 때 남은 공간 2(n-1)\n",
    "마지막에 2x1 로 직사각형을 놨을 때 남은 공간 2(n-2)\n",
    "\n",
    "y = x(n-1) + x(n+2)\n",
    "\n",
    "와 ^ㅣ 어렵다 gpt 써야겠다.\n"
   ]
  },
  {
   "cell_type": "code",
   "execution_count": 1,
   "metadata": {},
   "outputs": [
    {
     "name": "stdout",
     "output_type": "stream",
     "text": [
      "55\n"
     ]
    }
   ],
   "source": [
    "def tile_count(n):\n",
    "    if n == 1:\n",
    "        return 1\n",
    "    elif n == 2:\n",
    "        return 2\n",
    "    \n",
    "    MOD = 10007\n",
    "    dp = [0] * (n + 1)\n",
    "    dp[1] = 1\n",
    "    dp[2] = 2\n",
    "    \n",
    "    for i in range(3, n + 1):\n",
    "        dp[i] = (dp[i - 1] + dp[i - 2]) % MOD\n",
    "        \n",
    "    return dp[n]\n",
    "\n",
    "n = 9\n",
    "print(tile_count(n))\n"
   ]
  },
  {
   "cell_type": "markdown",
   "metadata": {},
   "source": []
  }
 ],
 "metadata": {
  "kernelspec": {
   "display_name": "Python 3",
   "language": "python",
   "name": "python3"
  },
  "language_info": {
   "codemirror_mode": {
    "name": "ipython",
    "version": 3
   },
   "file_extension": ".py",
   "mimetype": "text/x-python",
   "name": "python",
   "nbconvert_exporter": "python",
   "pygments_lexer": "ipython3",
   "version": "3.12.4"
  }
 },
 "nbformat": 4,
 "nbformat_minor": 2
}
