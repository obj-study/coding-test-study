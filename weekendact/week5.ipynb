{
 "cells": [
  {
   "cell_type": "code",
   "execution_count": 1,
   "metadata": {},
   "outputs": [
    {
     "name": "stdout",
     "output_type": "stream",
     "text": [
      "001.....\n",
      "0013....\n",
      "0001....\n",
      "00011...\n",
      "00001...\n",
      "00123...\n",
      "001.....\n",
      "00123...\n"
     ]
    }
   ],
   "source": [
    "n = int(input())\n",
    "mine_board = [list(input().strip()) for _ in range(n)]\n",
    "open_board = [list(input().strip()) for _ in range(n)]\n",
    "\n",
    "dx = [-1, -1, -1, 0, 1, 1, 1, 0]\n",
    "dy = [-1, 0, 1, 1, 1, 0, -1, -1]\n",
    "\n",
    "result_board = [['.'] * n for _ in range(n)]\n",
    "\n",
    "game_over = False\n",
    "\n",
    "for i in range(n):\n",
    "    for j in range(n):\n",
    "        if open_board[i][j] == 'x':\n",
    "            if mine_board[i][j] == '*':\n",
    "                game_over = True\n",
    "            else:\n",
    "                mine_count = 0\n",
    "                for k in range(8):\n",
    "                    ni, nj = i + dx[k], j + dy[k]\n",
    "                    if 0 <= ni < n and 0 <= nj < n and mine_board[ni][nj] == '*':\n",
    "                        mine_count += 1\n",
    "                result_board[i][j] = str(mine_count)\n",
    "\n",
    "if game_over:\n",
    "    for i in range(n):\n",
    "        for j in range(n):\n",
    "            if mine_board[i][j] == '*':\n",
    "                result_board[i][j] = '*'\n",
    "\n",
    "for row in result_board:\n",
    "    print(''.join(row))\n"
   ]
  },
  {
   "cell_type": "markdown",
   "metadata": {},
   "source": [
    "8방향 다 어떻게 풀어야할지 감이 안잡혀서 GPT 돌렸어요"
   ]
  },
  {
   "cell_type": "markdown",
   "metadata": {},
   "source": [
    "빙고도 잘 모르겠어요 오늘 형들한테 설명을 듣고 해볼래요"
   ]
  },
  {
   "cell_type": "markdown",
   "metadata": {},
   "source": [
    "시간복잡도는 한 문제를 해결할 때에 알고리즘들 중 어느 알고리즘이 제일 효율적인지 알기 위해 사용하는 방법으로 대표적인 표기 방법 Big-0 표기로 알아낸다.\n",
    "\n",
    "O(1) 상수 시간 복잡도\n",
    "O(n) 선형 시간 복잡도\n",
    "O(n^2) 이차 시간 복잡도\n",
    "\n",
    "데이터의 크기나 입력에 차이에 따라 달라진다\n",
    "\n",
    "아직 100% 이해는 못한듯"
   ]
  }
 ],
 "metadata": {
  "kernelspec": {
   "display_name": "Python 3",
   "language": "python",
   "name": "python3"
  },
  "language_info": {
   "codemirror_mode": {
    "name": "ipython",
    "version": 3
   },
   "file_extension": ".py",
   "mimetype": "text/x-python",
   "name": "python",
   "nbconvert_exporter": "python",
   "pygments_lexer": "ipython3",
   "version": "3.12.4"
  }
 },
 "nbformat": 4,
 "nbformat_minor": 2
}
