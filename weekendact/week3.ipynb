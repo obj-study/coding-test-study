{
 "cells": [
  {
   "cell_type": "code",
   "execution_count": 9,
   "metadata": {},
   "outputs": [
    {
     "name": "stdout",
     "output_type": "stream",
     "text": [
      "[1, 2, 4, 5, 6, 7, 8, 9, 10, 11, 12, 13, 14, 15, 16, 17, 18, 19, 20, 21, 22, 23, 24, 25, 26, 27, 28, 29, 30]\n",
      "[2, 4, 5, 6, 7, 8, 9, 10, 11, 12, 13, 14, 15, 16, 17, 18, 19, 20, 21, 22, 23, 24, 25, 26, 27, 28, 29, 30]\n",
      "[2, 5, 6, 7, 8, 9, 10, 11, 12, 13, 14, 15, 16, 17, 18, 19, 20, 21, 22, 23, 24, 25, 26, 27, 28, 29, 30]\n",
      "[2, 6, 7, 8, 9, 10, 11, 12, 13, 14, 15, 16, 17, 18, 19, 20, 21, 22, 23, 24, 25, 26, 27, 28, 29, 30]\n",
      "[2, 6, 8, 9, 10, 11, 12, 13, 14, 15, 16, 17, 18, 19, 20, 21, 22, 23, 24, 25, 26, 27, 28, 29, 30]\n",
      "[2, 6, 8, 10, 11, 12, 13, 14, 15, 16, 17, 18, 19, 20, 21, 22, 23, 24, 25, 26, 27, 28, 29, 30]\n",
      "[2, 8, 10, 11, 12, 13, 14, 15, 16, 17, 18, 19, 20, 21, 22, 23, 24, 25, 26, 27, 28, 29, 30]\n",
      "[2, 8, 11, 12, 13, 14, 15, 16, 17, 18, 19, 20, 21, 22, 23, 24, 25, 26, 27, 28, 29, 30]\n",
      "[2, 8, 12, 13, 14, 15, 16, 17, 18, 19, 20, 21, 22, 23, 24, 25, 26, 27, 28, 29, 30]\n",
      "[2, 8, 13, 14, 15, 16, 17, 18, 19, 20, 21, 22, 23, 24, 25, 26, 27, 28, 29, 30]\n",
      "[2, 8, 14, 15, 16, 17, 18, 19, 20, 21, 22, 23, 24, 25, 26, 27, 28, 29, 30]\n",
      "[2, 8, 15, 16, 17, 18, 19, 20, 21, 22, 23, 24, 25, 26, 27, 28, 29, 30]\n",
      "[2, 8, 16, 17, 18, 19, 20, 21, 22, 23, 24, 25, 26, 27, 28, 29, 30]\n",
      "[2, 8, 17, 18, 19, 20, 21, 22, 23, 24, 25, 26, 27, 28, 29, 30]\n",
      "[2, 8, 18, 19, 20, 21, 22, 23, 24, 25, 26, 27, 28, 29, 30]\n",
      "[2, 8, 19, 20, 21, 22, 23, 24, 25, 26, 27, 28, 29, 30]\n",
      "[2, 8, 20, 21, 22, 23, 24, 25, 26, 27, 28, 29, 30]\n",
      "[2, 8, 21, 22, 23, 24, 25, 26, 27, 28, 29, 30]\n",
      "[2, 8, 22, 23, 24, 25, 26, 27, 28, 29, 30]\n",
      "[2, 8, 23, 24, 25, 26, 27, 28, 29, 30]\n",
      "[2, 8, 24, 25, 26, 27, 28, 29, 30]\n",
      "[2, 8, 25, 26, 27, 28, 29, 30]\n",
      "[2, 8, 26, 27, 28, 29, 30]\n",
      "[2, 8, 27, 28, 29, 30]\n",
      "[2, 8, 28, 29, 30]\n",
      "[2, 8, 29, 30]\n",
      "[2, 8, 30]\n",
      "[2, 8]\n"
     ]
    },
    {
     "ename": "ValueError",
     "evalue": "invalid literal for int() with base 10: ''",
     "output_type": "error",
     "traceback": [
      "\u001b[0;31m---------------------------------------------------------------------------\u001b[0m",
      "\u001b[0;31mValueError\u001b[0m                                Traceback (most recent call last)",
      "Cell \u001b[0;32mIn[9], line 5\u001b[0m\n\u001b[1;32m      3\u001b[0m i \u001b[38;5;241m=\u001b[39m \u001b[38;5;241m0\u001b[39m\n\u001b[1;32m      4\u001b[0m \u001b[38;5;28;01mwhile\u001b[39;00m(i \u001b[38;5;241m<\u001b[39m\u001b[38;5;241m=\u001b[39m \u001b[38;5;241m28\u001b[39m):\n\u001b[0;32m----> 5\u001b[0m     student_list\u001b[38;5;241m.\u001b[39mremove(\u001b[38;5;28;43mint\u001b[39;49m\u001b[43m(\u001b[49m\u001b[38;5;28;43minput\u001b[39;49m\u001b[43m(\u001b[49m\u001b[43m)\u001b[49m\u001b[43m)\u001b[49m)\n\u001b[1;32m      6\u001b[0m     \u001b[38;5;28mprint\u001b[39m(student_list)\n\u001b[1;32m      7\u001b[0m     i \u001b[38;5;241m+\u001b[39m\u001b[38;5;241m=\u001b[39m \u001b[38;5;241m1\u001b[39m\n",
      "\u001b[0;31mValueError\u001b[0m: invalid literal for int() with base 10: ''"
     ]
    }
   ],
   "source": [
    "'''\n",
    "일단 1~30 까지 출석번호를 만들고\n",
    "i 를 28번 돌리는 반복문에서 하나씩 지워서 프린트 하고\n",
    "sort를 해서 오름차순 정렬 후 index 0번과 그 다음 수인 index 1번을 출력함\n",
    "'''\n",
    "\n",
    "student_list = list(range(1, 31))\n",
    "\n",
    "i = 0\n",
    "while(i < 28):\n",
    "    student_list.remove(int(input()))\n",
    "    i += 1\n",
    "\n",
    "student_list.sort()\n",
    "\n",
    "print(student_list[0])\n",
    "print(student_list[1])\n"
   ]
  },
  {
   "cell_type": "code",
   "execution_count": 13,
   "metadata": {},
   "outputs": [
    {
     "name": "stdout",
     "output_type": "stream",
     "text": [
      "20 28\n",
      "17 30\n",
      "7 35\n"
     ]
    }
   ],
   "source": [
    "test_case = int(input())\n",
    "\n",
    "for i in range(test_case):\n",
    "    int_count = int(input())\n",
    "    numbers = list(map(int, input().split()))\n",
    "    print(min(numbers), max(numbers))\n"
   ]
  },
  {
   "cell_type": "code",
   "execution_count": 18,
   "metadata": {},
   "outputs": [
    {
     "name": "stdout",
     "output_type": "stream",
     "text": [
      "0b100111010\n"
     ]
    }
   ],
   "source": [
    "oct_num = oct(int(input()))\n",
    "\n",
    "\n",
    "print(bin(int(oct_num, 8)))"
   ]
  },
  {
   "cell_type": "code",
   "execution_count": null,
   "metadata": {},
   "outputs": [],
   "source": [
    "count = int(input())\n",
    "\n",
    "cow_positions = {}\n",
    "\n",
    "cross_count = 0\n",
    "\n",
    "for i in range(count):\n",
    "    cow, position = map(int, input().split())\n",
    "    \n",
    "    if cow in cow_positions:\n",
    "        if cow_positions[cow] != position:\n",
    "            cross_count += 1 \n",
    "            cow_positions[cow] = position\n",
    "    else:\n",
    "            cow_positions[cow] = position\n",
    "\n",
    "print(cross_count)\n"
   ]
  },
  {
   "cell_type": "code",
   "execution_count": null,
   "metadata": {},
   "outputs": [],
   "source": [
    "cash = int(input())\n",
    "prices = list(map(int, input().split()))\n",
    "\n",
    "jh_cash = cash\n",
    "jh_stock = 0\n",
    "\n",
    "for price in prices:\n",
    "    if jh_cash >= price:\n",
    "        jh_stock += jh_cash // price\n",
    "        jh_cash %= price\n",
    "\n",
    "jh_asset = jh_cash + jh_stock * prices[-1]\n",
    "\n",
    "sm_cash = cash\n",
    "sm_stock = 0\n",
    "\n",
    "for i in range(2, len(prices)):\n",
    "    if prices[i-2] < prices[i-1] < prices[i] and sm_stock > 0:\n",
    "        sm_cash += sm_stock * prices[i]\n",
    "        sm_stock = 0\n",
    "    elif prices[i-2] > prices[i-1] > prices[i] and sm_cash >= prices[i]:\n",
    "        sm_stock += sm_cash // prices[i]\n",
    "        sm_cash %= prices[i]\n",
    "\n",
    "sm_asset = sm_cash + sm_stock * prices[-1]\n",
    "\n",
    "if jh_asset > sm_asset:\n",
    "    print(\"BNP\")\n",
    "elif jh_asset < sm_asset:\n",
    "    print(\"TIMING\")\n",
    "else:\n",
    "    print(\"SAMESAME\")\n"
   ]
  },
  {
   "cell_type": "code",
   "execution_count": null,
   "metadata": {},
   "outputs": [],
   "source": [
    "n = int(input()) \n",
    "switches = list(map(int, input().split()))\n",
    "students = int(input())\n",
    "operations = [tuple(map(int, input().split())) for _ in range(students)]\n",
    "\n",
    "def toggle(switches, index):\n",
    "    if switches[index] == 0:\n",
    "        switches[index] = 1\n",
    "    else:\n",
    "        switches[index] = 0\n",
    "\n",
    "for gender, number in operations:\n",
    "    if gender == 1:\n",
    "        for i in range(number-1, n, number):\n",
    "            toggle(switches, i)\n",
    "    elif gender == 2:\n",
    "        number -= 1 \n",
    "        toggle(switches, number)\n",
    "        left = number - 1\n",
    "        right = number + 1\n",
    "        while left >= 0 and right < n and switches[left] == switches[right]:\n",
    "            toggle(switches, left)\n",
    "            toggle(switches, right)\n",
    "            left -= 1\n",
    "            right += 1\n",
    "\n",
    "for i in range(0, n, 20):\n",
    "    print(' '.join(map(str, switches[i:i+20])))\n"
   ]
  },
  {
   "cell_type": "code",
   "execution_count": null,
   "metadata": {},
   "outputs": [],
   "source": [
    "\n",
    "n = int(input())\n",
    "mine_board = [list(input().strip()) for _ in range(n)]\n",
    "open_board = [list(input().strip()) for _ in range(n)]\n",
    "\n",
    "dx = [-1, -1, -1, 0, 1, 1, 1, 0]\n",
    "dy = [-1, 0, 1, 1, 1, 0, -1, -1]\n",
    "\n",
    "result_board = [['.'] * n for _ in range(n)]\n",
    "\n",
    "game_over = False\n",
    "\n",
    "for i in range(n):\n",
    "    for j in range(n):\n",
    "        if open_board[i][j] == 'x':\n",
    "            if mine_board[i][j] == '*':\n",
    "                game_over = True\n",
    "            else:\n",
    "                mine_count = 0\n",
    "                for k in range(8):\n",
    "                    ni, nj = i + dx[k], j + dy[k]\n",
    "                    if 0 <= ni < n and 0 <= nj < n and mine_board[ni][nj] == '*':\n",
    "                        mine_count += 1\n",
    "                result_board[i][j] = str(mine_count)\n",
    "\n",
    "if game_over:\n",
    "    for i in range(n):\n",
    "        for j in range(n):\n",
    "            if mine_board[i][j] == '*':\n",
    "                result_board[i][j] = '*'\n",
    "\n",
    "for row in result_board:\n",
    "    print(''.join(row))\n"
   ]
  }
 ],
 "metadata": {
  "kernelspec": {
   "display_name": "Python 3",
   "language": "python",
   "name": "python3"
  },
  "language_info": {
   "codemirror_mode": {
    "name": "ipython",
    "version": 3
   },
   "file_extension": ".py",
   "mimetype": "text/x-python",
   "name": "python",
   "nbconvert_exporter": "python",
   "pygments_lexer": "ipython3",
   "version": "3.12.4"
  }
 },
 "nbformat": 4,
 "nbformat_minor": 2
}
